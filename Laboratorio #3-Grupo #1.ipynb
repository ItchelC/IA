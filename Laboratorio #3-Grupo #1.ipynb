{
 "cells": [
  {
   "cell_type": "code",
   "execution_count": 1,
   "id": "bd53f27b",
   "metadata": {},
   "outputs": [],
   "source": [
    "# UNIVERSIDAD LATINA DE PANAMÁ - 2024-1 / INTELIGENCIA ARTIFICIAL\n",
    "\n",
    "#Laboratorio No.3\n",
    "#GRUPO 1"
   ]
  },
  {
   "cell_type": "code",
   "execution_count": 2,
   "id": "e3637d95",
   "metadata": {},
   "outputs": [
    {
     "name": "stdout",
     "output_type": "stream",
     "text": [
      "Requirement already satisfied: pillow in c:\\users\\itche\\anaconda3\\lib\\site-packages (9.4.0)\n",
      "Collecting opencv-python\n",
      "  Obtaining dependency information for opencv-python from https://files.pythonhosted.org/packages/c7/ec/9dabb6a9abfdebb3c45b0cc52dec901caafef2b2c7e7d6a839ed86d81e91/opencv_python-4.9.0.80-cp37-abi3-win_amd64.whl.metadata\n",
      "  Using cached opencv_python-4.9.0.80-cp37-abi3-win_amd64.whl.metadata (20 kB)\n",
      "Requirement already satisfied: numpy>=1.21.2 in c:\\users\\itche\\anaconda3\\lib\\site-packages (from opencv-python) (1.24.3)\n",
      "Using cached opencv_python-4.9.0.80-cp37-abi3-win_amd64.whl (38.6 MB)\n",
      "Installing collected packages: opencv-python\n",
      "Successfully installed opencv-python-4.9.0.80\n"
     ]
    }
   ],
   "source": [
    "# Instalamos esta dependencia que es necesaria en un punto\n",
    "!pip install pillow\n",
    "!pip install opencv-python"
   ]
  },
  {
   "cell_type": "code",
   "execution_count": 3,
   "id": "7460516f",
   "metadata": {},
   "outputs": [],
   "source": [
    "#Listado de Librerías\n",
    "\n",
    "import pandas as pd\n",
    "import numpy as np\n",
    "import os\n",
    "import tempfile\n",
    "import PIL\n",
    "\n",
    "%matplotlib inline\n",
    "import matplotlib\n",
    "import matplotlib.pyplot as plt\n",
    "\n",
    "from urllib.request import urlretrieve\n",
    "from zipfile import ZipFile\n",
    "from PIL import Image \n",
    "from numpy.random import randint"
   ]
  },
  {
   "cell_type": "code",
   "execution_count": 5,
   "id": "d2d4326e",
   "metadata": {},
   "outputs": [],
   "source": [
    "# Para tener repitividad en los resultados generados\n",
    "\n",
    "np.random.seed(42)\n",
    "\n",
    "# Creamos un directorio temporal\n",
    "d = tempfile.mkdtemp()\n",
    "\n",
    "# Definimos el URL\n",
    "url = 'https://archive.ics.uci.edu/dataset/241/one+hundred+plant+species+leaves+data+set'\n",
    "\n",
    "# Tenemos la data\n",
    "fn, info = urlretrieve(url, os.path.join(d, 'One-hundred plant species leaves data set'))"
   ]
  },
  {
   "cell_type": "code",
   "execution_count": 6,
   "id": "0da50f3a",
   "metadata": {},
   "outputs": [
    {
     "name": "stdout",
     "output_type": "stream",
     "text": [
      "[INFO] Creada carpeta temporal en: C:\\Users\\itche\\AppData\\Local\\Temp\\tmps6yfp5w5\\One-hundred plant species leaves data set\n",
      "[INFO] Mi directorio actual de trabajo es: C:\\Users\\itche\\Documents\\ULat\\IA\n"
     ]
    }
   ],
   "source": [
    "print(\"[INFO] Creada carpeta temporal en:\", fn)\n",
    "print(\"[INFO] Mi directorio actual de trabajo es:\", os.getcwd())"
   ]
  },
  {
   "cell_type": "code",
   "execution_count": 7,
   "id": "5511486d",
   "metadata": {},
   "outputs": [],
   "source": [
    "#Separación de las imágenes a utilizar del dataset\n",
    "\n",
    "img_predict= 'Hojas de Referencia'\n",
    "jpeglist = os.listdir(img_predict)\n",
    "\n",
    "i = 0\n",
    "with open('labels.txt', 'w') as lbl:\n",
    "    for _r in jpeglist:\n",
    "        i = i + 1\n",
    "        if i <= 66:\n",
    "            leafclass = 0\n",
    "        if i > 66 and i <= 126:\n",
    "            leafclass = 1\n",
    "        if i > 126:\n",
    "            leafclass = 2\n",
    "        lbl.write(str(leafclass) + '\\n')\n",
    "lbl.close()"
   ]
  },
  {
   "cell_type": "code",
   "execution_count": 8,
   "id": "977f89b0",
   "metadata": {},
   "outputs": [
    {
     "data": {
      "text/plain": [
       "(300,)"
      ]
     },
     "execution_count": 8,
     "metadata": {},
     "output_type": "execute_result"
    }
   ],
   "source": [
    "## I. LEAF DATASET:\n",
    "\n",
    "#Conteo de la cantidad de imágenes a utilizar\n",
    "\n",
    "target = np.genfromtxt('labels.txt').astype(np.uint8)\n",
    "target.shape"
   ]
  },
  {
   "cell_type": "code",
   "execution_count": 9,
   "id": "e9437665",
   "metadata": {},
   "outputs": [],
   "source": [
    "#Primer procesamiento de imágenes \n",
    "\n",
    "w       = 1000\n",
    "h       = 1000\n",
    "nimages = 300\n",
    "nchan   = 3\n",
    "\n",
    "imgarr   = np.zeros((w*h*nchan, nimages), dtype=np.uint8)\n",
    "\n",
    "for index, filename in enumerate(os.listdir(img_predict)):\n",
    "    img = PIL.Image.open(os.path.join(img_predict, filename))\n",
    "    pixels = np.array(img).reshape(w*h*nchan)\n",
    "    imgarr[:, index] = pixels\n",
    "    "
   ]
  },
  {
   "cell_type": "code",
   "execution_count": 11,
   "id": "da708d72",
   "metadata": {},
   "outputs": [
    {
     "data": {
      "image/png": "[encoded data removed]",
      "text/plain": [
       "<Figure size 640x480 with 1 Axes>"
      ]
     },
     "metadata": {},
     "output_type": "display_data"
    }
   ],
   "source": [
    "# Hoja Aleatoria\n",
    "\n",
    "some_leaf = imgarr[:, randint(0, 300)].reshape(1000, 1000, 3)\n",
    "plt.imshow(some_leaf)\n",
    "plt.axis(\"off\")\n",
    "\n",
    "plt.show()"
   ]
  },
  {
   "cell_type": "code",
   "execution_count": 12,
   "id": "b6b6f55c",
   "metadata": {},
   "outputs": [
    {
     "data": {
      "text/plain": [
       "((3000000, 300), (300,))"
      ]
     },
     "execution_count": 12,
     "metadata": {},
     "output_type": "execute_result"
    }
   ],
   "source": [
    "# Por convenencia dividimos en clases iguales.\n",
    "\n",
    "X = imgarr\n",
    "Y = target\n",
    "Y = np.hstack((Y[:100], Y[100:]))\n",
    "X = np.hstack((X[:, :100], X[:, 100:]))\n",
    "X.shape, Y.shape"
   ]
  },
  {
   "cell_type": "code",
   "execution_count": 13,
   "id": "e5f3642b",
   "metadata": {},
   "outputs": [
    {
     "data": {
      "text/plain": [
       "((3000000, 150), (3000000, 150), (150,), (150,))"
      ]
     },
     "execution_count": 13,
     "metadata": {},
     "output_type": "execute_result"
    }
   ],
   "source": [
    "# Dividimos ahora el training set y el test set\n",
    "nimginclass = 100\n",
    "train = int(0.8*100)\n",
    "test = 100 - train\n",
    "\n",
    "# De 0 a 50, la segunda de 100 a 150 y la ultima de 200 a 250\n",
    "# De 50 a 100 imagenes de test y de 150 a 200 test y de 250 a 300 es test\n",
    "\n",
    "Xtrain = np.hstack((X[:,   :50], X[:, 100:(100+50)], X[:, 200:(200+50)]))/255\n",
    "Ytrain = np.hstack((Y[:50], Y[100:(100+50)], Y[200:(200+50)]))\n",
    "\n",
    "Xtest  = np.hstack((X[:, 50:(50+50)], X[:, (100+50):(100+50+50)], X[:, (200+50):]))/255\n",
    "Ytest  = np.hstack((Y[50:(50+50)], Y[(100+50):(100+50+50)], Y[(200+50):]))\n",
    "\n",
    "#Imprimimos las divisiones como verificación \n",
    "\n",
    "Xtrain.shape, Xtest.shape, Ytrain.shape, Ytest.shape"
   ]
  },
  {
   "cell_type": "code",
   "execution_count": 14,
   "id": "66888516",
   "metadata": {},
   "outputs": [
    {
     "name": "stderr",
     "output_type": "stream",
     "text": [
      "C:\\Users\\itche\\anaconda3\\Lib\\site-packages\\sklearn\\linear_model\\_stochastic_gradient.py:713: ConvergenceWarning: Maximum number of iteration reached before convergence. Consider increasing max_iter to improve the fit.\n",
      "  warnings.warn(\n"
     ]
    },
    {
     "data": {
      "text/html": [
       "<style>#sk-container-id-1 {color: black;}#sk-container-id-1 pre{padding: 0;}#sk-container-id-1 div.sk-toggleable {background-color: white;}#sk-container-id-1 label.sk-toggleable__label {cursor: pointer;display: block;width: 100%;margin-bottom: 0;padding: 0.3em;box-sizing: border-box;text-align: center;}#sk-container-id-1 label.sk-toggleable__label-arrow:before {content: \"▸\";float: left;margin-right: 0.25em;color: #696969;}#sk-container-id-1 label.sk-toggleable__label-arrow:hover:before {color: black;}#sk-container-id-1 div.sk-estimator:hover label.sk-toggleable__label-arrow:before {color: black;}#sk-container-id-1 div.sk-toggleable__content {max-height: 0;max-width: 0;overflow: hidden;text-align: left;background-color: #f0f8ff;}#sk-container-id-1 div.sk-toggleable__content pre {margin: 0.2em;color: black;border-radius: 0.25em;background-color: #f0f8ff;}#sk-container-id-1 input.sk-toggleable__control:checked~div.sk-toggleable__content {max-height: 200px;max-width: 100%;overflow: auto;}#sk-container-id-1 input.sk-toggleable__control:checked~label.sk-toggleable__label-arrow:before {content: \"▾\";}#sk-container-id-1 div.sk-estimator input.sk-toggleable__control:checked~label.sk-toggleable__label {background-color: #d4ebff;}#sk-container-id-1 div.sk-label input.sk-toggleable__control:checked~label.sk-toggleable__label {background-color: #d4ebff;}#sk-container-id-1 input.sk-hidden--visually {border: 0;clip: rect(1px 1px 1px 1px);clip: rect(1px, 1px, 1px, 1px);height: 1px;margin: -1px;overflow: hidden;padding: 0;position: absolute;width: 1px;}#sk-container-id-1 div.sk-estimator {font-family: monospace;background-color: #f0f8ff;border: 1px dotted black;border-radius: 0.25em;box-sizing: border-box;margin-bottom: 0.5em;}#sk-container-id-1 div.sk-estimator:hover {background-color: #d4ebff;}#sk-container-id-1 div.sk-parallel-item::after {content: \"\";width: 100%;border-bottom: 1px solid gray;flex-grow: 1;}#sk-container-id-1 div.sk-label:hover label.sk-toggleable__label {background-color: #d4ebff;}#sk-container-id-1 div.sk-serial::before {content: \"\";position: absolute;border-left: 1px solid gray;box-sizing: border-box;top: 0;bottom: 0;left: 50%;z-index: 0;}#sk-container-id-1 div.sk-serial {display: flex;flex-direction: column;align-items: center;background-color: white;padding-right: 0.2em;padding-left: 0.2em;position: relative;}#sk-container-id-1 div.sk-item {position: relative;z-index: 1;}#sk-container-id-1 div.sk-parallel {display: flex;align-items: stretch;justify-content: center;background-color: white;position: relative;}#sk-container-id-1 div.sk-item::before, #sk-container-id-1 div.sk-parallel-item::before {content: \"\";position: absolute;border-left: 1px solid gray;box-sizing: border-box;top: 0;bottom: 0;left: 50%;z-index: -1;}#sk-container-id-1 div.sk-parallel-item {display: flex;flex-direction: column;z-index: 1;position: relative;background-color: white;}#sk-container-id-1 div.sk-parallel-item:first-child::after {align-self: flex-end;width: 50%;}#sk-container-id-1 div.sk-parallel-item:last-child::after {align-self: flex-start;width: 50%;}#sk-container-id-1 div.sk-parallel-item:only-child::after {width: 0;}#sk-container-id-1 div.sk-dashed-wrapped {border: 1px dashed gray;margin: 0 0.4em 0.5em 0.4em;box-sizing: border-box;padding-bottom: 0.4em;background-color: white;}#sk-container-id-1 div.sk-label label {font-family: monospace;font-weight: bold;display: inline-block;line-height: 1.2em;}#sk-container-id-1 div.sk-label-container {text-align: center;}#sk-container-id-1 div.sk-container {/* jupyter's `normalize.less` sets `[hidden] { display: none; }` but bootstrap.min.css set `[hidden] { display: none !important; }` so we also need the `!important` here to be able to override the default hidden behavior on the sphinx rendered scikit-learn.org. See: https://github.com/scikit-learn/scikit-learn/issues/21755 */display: inline-block !important;position: relative;}#sk-container-id-1 div.sk-text-repr-fallback {display: none;}</style><div id=\"sk-container-id-1\" class=\"sk-top-container\"><div class=\"sk-text-repr-fallback\"><pre>SGDClassifier(max_iter=5, random_state=42)</pre><b>In a Jupyter environment, please rerun this cell to show the HTML representation or trust the notebook. <br />On GitHub, the HTML representation is unable to render, please try loading this page with nbviewer.org.</b></div><div class=\"sk-container\" hidden><div class=\"sk-item\"><div class=\"sk-estimator sk-toggleable\"><input class=\"sk-toggleable__control sk-hidden--visually\" id=\"sk-estimator-id-1\" type=\"checkbox\" checked><label for=\"sk-estimator-id-1\" class=\"sk-toggleable__label sk-toggleable__label-arrow\">SGDClassifier</label><div class=\"sk-toggleable__content\"><pre>SGDClassifier(max_iter=5, random_state=42)</pre></div></div></div></div></div>"
      ],
      "text/plain": [
       "SGDClassifier(max_iter=5, random_state=42)"
      ]
     },
     "execution_count": 14,
     "metadata": {},
     "output_type": "execute_result"
    }
   ],
   "source": [
    "#II. Clasificación Multiclase\n",
    "\n",
    "from sklearn.linear_model import SGDClassifier\n",
    "\n",
    "sgd_clf = SGDClassifier(max_iter=5, random_state=42)\n",
    "sgd_clf.fit(Xtrain.T, Ytrain)"
   ]
  },
  {
   "cell_type": "code",
   "execution_count": 15,
   "id": "f477def2",
   "metadata": {},
   "outputs": [
    {
     "data": {
      "text/plain": [
       "(array([2, 1, 1, 1, 1, 0, 1, 1, 2, 1, 1, 1, 1, 1, 2, 2, 0, 1, 2, 2, 2, 2,\n",
       "        1, 2, 2, 2, 0, 2, 2, 2, 0, 1, 0, 0, 0, 0, 0, 0, 0, 0, 0, 0, 0, 0,\n",
       "        0, 1, 0, 1, 1, 1, 2, 2, 2, 2, 2, 2, 2, 2, 2, 2, 2, 2, 2, 2, 2, 2,\n",
       "        2, 2, 2, 2, 2, 2, 2, 2, 2, 2, 2, 0, 2, 2, 2, 2, 2, 2, 1, 2, 2, 2,\n",
       "        0, 1, 0, 2, 2, 2, 2, 2, 2, 2, 2, 2, 2, 2, 2, 2, 2, 2, 2, 2, 2, 2,\n",
       "        2, 2, 2, 2, 2, 2, 2, 2, 2, 2, 2, 2, 2, 0, 0, 2, 2, 2, 0, 0, 0, 2,\n",
       "        0, 0, 0, 2, 0, 0, 2, 2, 2, 2, 2, 2, 2, 2, 2, 2, 0, 2], dtype=uint8),\n",
       " array([0, 0, 0, 0, 0, 0, 0, 0, 0, 0, 0, 0, 0, 0, 0, 0, 1, 1, 1, 1, 1, 1,\n",
       "        1, 1, 1, 1, 1, 1, 1, 1, 1, 1, 1, 1, 1, 1, 1, 1, 1, 1, 1, 1, 1, 1,\n",
       "        1, 1, 1, 1, 1, 1, 2, 2, 2, 2, 2, 2, 2, 2, 2, 2, 2, 2, 2, 2, 2, 2,\n",
       "        2, 2, 2, 2, 2, 2, 2, 2, 2, 2, 2, 2, 2, 2, 2, 2, 2, 2, 2, 2, 2, 2,\n",
       "        2, 2, 2, 2, 2, 2, 2, 2, 2, 2, 2, 2, 2, 2, 2, 2, 2, 2, 2, 2, 2, 2,\n",
       "        2, 2, 2, 2, 2, 2, 2, 2, 2, 2, 2, 2, 2, 2, 2, 2, 2, 2, 2, 2, 2, 2,\n",
       "        2, 2, 2, 2, 2, 2, 2, 2, 2, 2, 2, 2, 2, 2, 2, 2, 2, 2], dtype=uint8))"
      ]
     },
     "execution_count": 15,
     "metadata": {},
     "output_type": "execute_result"
    }
   ],
   "source": [
    "#Impresión de las predicciones \n",
    "\n",
    "Ypredict = sgd_clf.predict(Xtest.T)\n",
    "Ypredict, Ytest"
   ]
  },
  {
   "cell_type": "code",
   "execution_count": 16,
   "id": "2b52fa90",
   "metadata": {},
   "outputs": [
    {
     "name": "stderr",
     "output_type": "stream",
     "text": [
      "C:\\Users\\itche\\anaconda3\\Lib\\site-packages\\sklearn\\linear_model\\_stochastic_gradient.py:713: ConvergenceWarning: Maximum number of iteration reached before convergence. Consider increasing max_iter to improve the fit.\n",
      "  warnings.warn(\n"
     ]
    },
    {
     "name": "stdout",
     "output_type": "stream",
     "text": [
      "0.88\n"
     ]
    },
    {
     "name": "stderr",
     "output_type": "stream",
     "text": [
      "C:\\Users\\itche\\anaconda3\\Lib\\site-packages\\sklearn\\linear_model\\_stochastic_gradient.py:713: ConvergenceWarning: Maximum number of iteration reached before convergence. Consider increasing max_iter to improve the fit.\n",
      "  warnings.warn(\n"
     ]
    },
    {
     "name": "stdout",
     "output_type": "stream",
     "text": [
      "0.88\n"
     ]
    },
    {
     "name": "stderr",
     "output_type": "stream",
     "text": [
      "C:\\Users\\itche\\anaconda3\\Lib\\site-packages\\sklearn\\linear_model\\_stochastic_gradient.py:713: ConvergenceWarning: Maximum number of iteration reached before convergence. Consider increasing max_iter to improve the fit.\n",
      "  warnings.warn(\n"
     ]
    },
    {
     "name": "stdout",
     "output_type": "stream",
     "text": [
      "0.8\n"
     ]
    }
   ],
   "source": [
    "#Ahora utilizaremos una métrica para el rendimiento de la predicción \n",
    "#Esta función evalua el modelo utilizado usando validación cruzada con k-fold\n",
    "\n",
    "from sklearn.model_selection import StratifiedKFold\n",
    "from sklearn.base import clone\n",
    "from sklearn.model_selection import cross_val_score\n",
    "from sklearn.model_selection import cross_val_predict\n",
    "\n",
    "kfold = StratifiedKFold(n_splits=3, random_state=42, shuffle=True)\n",
    "\n",
    "for xindex, yindex in kfold.split(Xtrain.T, Ytrain):\n",
    "    clonemodel  = clone(sgd_clf)\n",
    "    Xtrainfold = Xtrain.T[xindex]\n",
    "    Ytrainfold = (Ytrain[xindex])\n",
    "    Xtestfold  = Xtrain.T[yindex]\n",
    "    Ytestfold  = (Ytrain[yindex])\n",
    "\n",
    "    clonemodel.fit(Xtrainfold, Ytrainfold)\n",
    "    prediction = clonemodel.predict(Xtestfold)\n",
    "    numok = sum(prediction == Ytestfold)\n",
    "    print(numok / len(prediction))"
   ]
  },
  {
   "cell_type": "code",
   "execution_count": 17,
   "id": "8b5e057a",
   "metadata": {},
   "outputs": [
    {
     "name": "stderr",
     "output_type": "stream",
     "text": [
      "C:\\Users\\itche\\anaconda3\\Lib\\site-packages\\sklearn\\linear_model\\_stochastic_gradient.py:713: ConvergenceWarning: Maximum number of iteration reached before convergence. Consider increasing max_iter to improve the fit.\n",
      "  warnings.warn(\n",
      "C:\\Users\\itche\\anaconda3\\Lib\\site-packages\\sklearn\\linear_model\\_stochastic_gradient.py:713: ConvergenceWarning: Maximum number of iteration reached before convergence. Consider increasing max_iter to improve the fit.\n",
      "  warnings.warn(\n",
      "C:\\Users\\itche\\anaconda3\\Lib\\site-packages\\sklearn\\linear_model\\_stochastic_gradient.py:713: ConvergenceWarning: Maximum number of iteration reached before convergence. Consider increasing max_iter to improve the fit.\n",
      "  warnings.warn(\n"
     ]
    },
    {
     "data": {
      "text/plain": [
       "array([0.26, 0.48, 0.58])"
      ]
     },
     "execution_count": 17,
     "metadata": {},
     "output_type": "execute_result"
    }
   ],
   "source": [
    "#Visto con la métrica de cross_validation\n",
    "\n",
    "cross_val_score(sgd_clf, Xtrain.T, Ytrain, cv=3, scoring=\"accuracy\")"
   ]
  },
  {
   "cell_type": "code",
   "execution_count": 18,
   "id": "0a493209",
   "metadata": {},
   "outputs": [
    {
     "name": "stderr",
     "output_type": "stream",
     "text": [
      "C:\\Users\\itche\\anaconda3\\Lib\\site-packages\\sklearn\\linear_model\\_stochastic_gradient.py:713: ConvergenceWarning: Maximum number of iteration reached before convergence. Consider increasing max_iter to improve the fit.\n",
      "  warnings.warn(\n",
      "C:\\Users\\itche\\anaconda3\\Lib\\site-packages\\sklearn\\linear_model\\_stochastic_gradient.py:713: ConvergenceWarning: Maximum number of iteration reached before convergence. Consider increasing max_iter to improve the fit.\n",
      "  warnings.warn(\n",
      "C:\\Users\\itche\\anaconda3\\Lib\\site-packages\\sklearn\\linear_model\\_stochastic_gradient.py:713: ConvergenceWarning: Maximum number of iteration reached before convergence. Consider increasing max_iter to improve the fit.\n",
      "  warnings.warn(\n"
     ]
    },
    {
     "data": {
      "text/plain": [
       "array([[21, 24,  5],\n",
       "       [ 5, 11, 10],\n",
       "       [27, 13, 34]], dtype=int64)"
      ]
     },
     "execution_count": 18,
     "metadata": {},
     "output_type": "execute_result"
    }
   ],
   "source": [
    "#Evaluación del modelo en base a la matriz de confusión.\n",
    "\n",
    "from sklearn.metrics import confusion_matrix\n",
    "\n",
    "Ypredictions = cross_val_predict(sgd_clf, Xtrain.T, Ytrain, cv=3)\n",
    "\n",
    "confMat = confusion_matrix(Ytrain, Ypredictions)\n",
    "confMat"
   ]
  },
  {
   "cell_type": "code",
   "execution_count": 19,
   "id": "2b3cf33f",
   "metadata": {},
   "outputs": [
    {
     "data": {
      "image/png": "[encoded data removed]",
      "text/plain": [
       "<Figure size 480x480 with 1 Axes>"
      ]
     },
     "metadata": {},
     "output_type": "display_data"
    }
   ],
   "source": [
    "#Procesamiento de de los colores\n",
    "\n",
    "plt.matshow(confMat, cmap=plt.cm.gray)\n",
    "plt.show()"
   ]
  },
  {
   "cell_type": "code",
   "execution_count": 20,
   "id": "25b69583",
   "metadata": {},
   "outputs": [
    {
     "data": {
      "text/plain": [
       "0.44"
      ]
     },
     "execution_count": 20,
     "metadata": {},
     "output_type": "execute_result"
    }
   ],
   "source": [
    "#MClasificar binariamente\n",
    "\n",
    "from sklearn.metrics import precision_score\n",
    "from sklearn.metrics import recall_score\n",
    "from sklearn.metrics import f1_score\n",
    "\n",
    "precision_score(Ytrain, Ypredictions, average='micro')"
   ]
  },
  {
   "cell_type": "code",
   "execution_count": 21,
   "id": "14655921",
   "metadata": {},
   "outputs": [
    {
     "data": {
      "text/plain": [
       "0.44"
      ]
     },
     "execution_count": 21,
     "metadata": {},
     "output_type": "execute_result"
    }
   ],
   "source": [
    "recall_score(Ytrain, Ypredictions, average='micro')"
   ]
  },
  {
   "cell_type": "code",
   "execution_count": 22,
   "id": "83925758",
   "metadata": {},
   "outputs": [
    {
     "data": {
      "text/plain": [
       "0.44"
      ]
     },
     "execution_count": 22,
     "metadata": {},
     "output_type": "execute_result"
    }
   ],
   "source": [
    "f1_score(Ytrain, Ypredictions, average='micro')"
   ]
  },
  {
   "cell_type": "code",
   "execution_count": null,
   "id": "42f63e4a",
   "metadata": {},
   "outputs": [],
   "source": []
  }
 ],
 "metadata": {
  "kernelspec": {
   "display_name": "Python 3 (ipykernel)",
   "language": "python",
   "name": "python3"
  },
  "language_info": {
   "codemirror_mode": {
    "name": "ipython",
    "version": 3
   },
   "file_extension": ".py",
   "mimetype": "text/x-python",
   "name": "python",
   "nbconvert_exporter": "python",
   "pygments_lexer": "ipython3",
   "version": "3.11.5"
  }
 },
 "nbformat": 4,
 "nbformat_minor": 5
}
